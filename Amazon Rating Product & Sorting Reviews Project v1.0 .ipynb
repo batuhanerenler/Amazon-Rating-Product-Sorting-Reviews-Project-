{
 "cells": [
  {
   "cell_type": "code",
   "execution_count": 1,
   "id": "c55dcb29-fdee-49c4-b111-f36d1aa9dd0a",
   "metadata": {
    "jupyter": {
     "source_hidden": true
    },
    "tags": []
   },
   "outputs": [],
   "source": [
    "#TUR\n",
    "#Veri Seti hikayesi :\n",
    "#Amazon ürün verilerini içeren bu veri seti ürün kategorileri ile çeşitli metadatalarıiçermektedir. Elektronik kategorisindeki en fazla yorum alan ürünün kullanıcı puanları ve yorumları vardır\n",
    "\n",
    "#ENG\n",
    "#Story of Dataset\n",
    "#This dataset, which includes Amazon product data, includes product categories and various metadata. The product with the most reviews in the electronics category has user ratings and reviews"
   ]
  },
  {
   "cell_type": "code",
   "execution_count": 2,
   "id": "2aafd7c6-ee9f-49dc-953c-75d41d693af5",
   "metadata": {},
   "outputs": [],
   "source": [
    "#Importing Libraries\n",
    "import pandas as pd \n",
    "import math \n",
    "import scipy.stats as st\n",
    "import numpy as np\n",
    "from sklearn.preprocessing import MinMaxScaler\n",
    "pd.set_option('display.max_columns', None)\n",
    "pd.set_option('display.max_rows', None)\n",
    "pd.set_option('display.width', 500)\n",
    "pd.set_option('display.expand_frame_repr',False)\n",
    "pd.set_option('display.float_format', lambda x: '%.5f' % x)\n"
   ]
  },
  {
   "cell_type": "code",
   "execution_count": 3,
   "id": "ba885de1-b14c-496a-b43e-35fe20a17906",
   "metadata": {},
   "outputs": [],
   "source": [
    "#ENG\n",
    "#Reading the dataset\n",
    "#TUR \n",
    "#Veri Setinin okunması\n",
    "df = pd.read_csv(\"amazon_review.csv\")"
   ]
  },
  {
   "cell_type": "code",
   "execution_count": 4,
   "id": "6e6997d4-de3d-49ea-b7ab-35ee9e950c2e",
   "metadata": {
    "tags": []
   },
   "outputs": [
    {
     "data": {
      "text/html": [
       "<div>\n",
       "<style scoped>\n",
       "    .dataframe tbody tr th:only-of-type {\n",
       "        vertical-align: middle;\n",
       "    }\n",
       "\n",
       "    .dataframe tbody tr th {\n",
       "        vertical-align: top;\n",
       "    }\n",
       "\n",
       "    .dataframe thead th {\n",
       "        text-align: right;\n",
       "    }\n",
       "</style>\n",
       "<table border=\"1\" class=\"dataframe\">\n",
       "  <thead>\n",
       "    <tr style=\"text-align: right;\">\n",
       "      <th></th>\n",
       "      <th>reviewerID</th>\n",
       "      <th>asin</th>\n",
       "      <th>reviewerName</th>\n",
       "      <th>helpful</th>\n",
       "      <th>reviewText</th>\n",
       "      <th>overall</th>\n",
       "      <th>summary</th>\n",
       "      <th>unixReviewTime</th>\n",
       "      <th>reviewTime</th>\n",
       "      <th>day_diff</th>\n",
       "      <th>helpful_yes</th>\n",
       "      <th>total_vote</th>\n",
       "    </tr>\n",
       "  </thead>\n",
       "  <tbody>\n",
       "    <tr>\n",
       "      <th>0</th>\n",
       "      <td>A3SBTW3WS4IQSN</td>\n",
       "      <td>B007WTAJTO</td>\n",
       "      <td>NaN</td>\n",
       "      <td>[0, 0]</td>\n",
       "      <td>No issues.</td>\n",
       "      <td>4.00000</td>\n",
       "      <td>Four Stars</td>\n",
       "      <td>1406073600</td>\n",
       "      <td>2014-07-23</td>\n",
       "      <td>138</td>\n",
       "      <td>0</td>\n",
       "      <td>0</td>\n",
       "    </tr>\n",
       "    <tr>\n",
       "      <th>1</th>\n",
       "      <td>A18K1ODH1I2MVB</td>\n",
       "      <td>B007WTAJTO</td>\n",
       "      <td>0mie</td>\n",
       "      <td>[0, 0]</td>\n",
       "      <td>Purchased this for my device, it worked as adv...</td>\n",
       "      <td>5.00000</td>\n",
       "      <td>MOAR SPACE!!!</td>\n",
       "      <td>1382659200</td>\n",
       "      <td>2013-10-25</td>\n",
       "      <td>409</td>\n",
       "      <td>0</td>\n",
       "      <td>0</td>\n",
       "    </tr>\n",
       "    <tr>\n",
       "      <th>2</th>\n",
       "      <td>A2FII3I2MBMUIA</td>\n",
       "      <td>B007WTAJTO</td>\n",
       "      <td>1K3</td>\n",
       "      <td>[0, 0]</td>\n",
       "      <td>it works as expected. I should have sprung for...</td>\n",
       "      <td>4.00000</td>\n",
       "      <td>nothing to really say....</td>\n",
       "      <td>1356220800</td>\n",
       "      <td>2012-12-23</td>\n",
       "      <td>715</td>\n",
       "      <td>0</td>\n",
       "      <td>0</td>\n",
       "    </tr>\n",
       "    <tr>\n",
       "      <th>3</th>\n",
       "      <td>A3H99DFEG68SR</td>\n",
       "      <td>B007WTAJTO</td>\n",
       "      <td>1m2</td>\n",
       "      <td>[0, 0]</td>\n",
       "      <td>This think has worked out great.Had a diff. br...</td>\n",
       "      <td>5.00000</td>\n",
       "      <td>Great buy at this price!!!  *** UPDATE</td>\n",
       "      <td>1384992000</td>\n",
       "      <td>2013-11-21</td>\n",
       "      <td>382</td>\n",
       "      <td>0</td>\n",
       "      <td>0</td>\n",
       "    </tr>\n",
       "    <tr>\n",
       "      <th>4</th>\n",
       "      <td>A375ZM4U047O79</td>\n",
       "      <td>B007WTAJTO</td>\n",
       "      <td>2&amp;amp;1/2Men</td>\n",
       "      <td>[0, 0]</td>\n",
       "      <td>Bought it with Retail Packaging, arrived legit...</td>\n",
       "      <td>5.00000</td>\n",
       "      <td>best deal around</td>\n",
       "      <td>1373673600</td>\n",
       "      <td>2013-07-13</td>\n",
       "      <td>513</td>\n",
       "      <td>0</td>\n",
       "      <td>0</td>\n",
       "    </tr>\n",
       "  </tbody>\n",
       "</table>\n",
       "</div>"
      ],
      "text/plain": [
       "       reviewerID        asin  reviewerName helpful                                         reviewText  overall                                 summary  unixReviewTime  reviewTime  day_diff  helpful_yes  total_vote\n",
       "0  A3SBTW3WS4IQSN  B007WTAJTO           NaN  [0, 0]                                         No issues.  4.00000                              Four Stars      1406073600  2014-07-23       138            0           0\n",
       "1  A18K1ODH1I2MVB  B007WTAJTO          0mie  [0, 0]  Purchased this for my device, it worked as adv...  5.00000                           MOAR SPACE!!!      1382659200  2013-10-25       409            0           0\n",
       "2  A2FII3I2MBMUIA  B007WTAJTO           1K3  [0, 0]  it works as expected. I should have sprung for...  4.00000               nothing to really say....      1356220800  2012-12-23       715            0           0\n",
       "3   A3H99DFEG68SR  B007WTAJTO           1m2  [0, 0]  This think has worked out great.Had a diff. br...  5.00000  Great buy at this price!!!  *** UPDATE      1384992000  2013-11-21       382            0           0\n",
       "4  A375ZM4U047O79  B007WTAJTO  2&amp;1/2Men  [0, 0]  Bought it with Retail Packaging, arrived legit...  5.00000                        best deal around      1373673600  2013-07-13       513            0           0"
      ]
     },
     "execution_count": 4,
     "metadata": {},
     "output_type": "execute_result"
    }
   ],
   "source": [
    "df.head()"
   ]
  },
  {
   "cell_type": "code",
   "execution_count": 5,
   "id": "b84f9b80-0f4c-4706-9bf8-30e8ae720cce",
   "metadata": {},
   "outputs": [
    {
     "data": {
      "text/plain": [
       "(4915, 12)"
      ]
     },
     "execution_count": 5,
     "metadata": {},
     "output_type": "execute_result"
    }
   ],
   "source": [
    "#ENG\n",
    "#Check for shape of dataset\n",
    "#TUR\n",
    "#Veri setinin şekil kontrolü, değişken sayısı ve satır sayısı...\n",
    "df.shape"
   ]
  },
  {
   "cell_type": "code",
   "execution_count": 6,
   "id": "911ff8de-e12e-44a5-89b9-af6cec4d11f6",
   "metadata": {},
   "outputs": [
    {
     "data": {
      "text/plain": [
       "reviewerID        0\n",
       "asin              0\n",
       "reviewerName      1\n",
       "helpful           0\n",
       "reviewText        1\n",
       "overall           0\n",
       "summary           0\n",
       "unixReviewTime    0\n",
       "reviewTime        0\n",
       "day_diff          0\n",
       "helpful_yes       0\n",
       "total_vote        0\n",
       "dtype: int64"
      ]
     },
     "execution_count": 6,
     "metadata": {},
     "output_type": "execute_result"
    }
   ],
   "source": [
    "#ENG \n",
    "#Check if there is null value in columns\n",
    "#TUR\n",
    "#Değişkenlerde boş değer var mı yok mu kontrol ediyoruz\n",
    "df.isnull().sum()"
   ]
  },
  {
   "cell_type": "code",
   "execution_count": 7,
   "id": "e3252b4b-97d2-4597-b72e-e12c21265d4a",
   "metadata": {},
   "outputs": [
    {
     "data": {
      "text/html": [
       "<div>\n",
       "<style scoped>\n",
       "    .dataframe tbody tr th:only-of-type {\n",
       "        vertical-align: middle;\n",
       "    }\n",
       "\n",
       "    .dataframe tbody tr th {\n",
       "        vertical-align: top;\n",
       "    }\n",
       "\n",
       "    .dataframe thead th {\n",
       "        text-align: right;\n",
       "    }\n",
       "</style>\n",
       "<table border=\"1\" class=\"dataframe\">\n",
       "  <thead>\n",
       "    <tr style=\"text-align: right;\">\n",
       "      <th></th>\n",
       "      <th>count</th>\n",
       "      <th>mean</th>\n",
       "      <th>std</th>\n",
       "      <th>min</th>\n",
       "      <th>25%</th>\n",
       "      <th>50%</th>\n",
       "      <th>75%</th>\n",
       "      <th>max</th>\n",
       "    </tr>\n",
       "  </thead>\n",
       "  <tbody>\n",
       "    <tr>\n",
       "      <th>overall</th>\n",
       "      <td>4915.00000</td>\n",
       "      <td>4.58759</td>\n",
       "      <td>0.99685</td>\n",
       "      <td>1.00000</td>\n",
       "      <td>5.00000</td>\n",
       "      <td>5.00000</td>\n",
       "      <td>5.00000</td>\n",
       "      <td>5.00000</td>\n",
       "    </tr>\n",
       "    <tr>\n",
       "      <th>unixReviewTime</th>\n",
       "      <td>4915.00000</td>\n",
       "      <td>1379465001.66836</td>\n",
       "      <td>15818574.32275</td>\n",
       "      <td>1339200000.00000</td>\n",
       "      <td>1365897600.00000</td>\n",
       "      <td>1381276800.00000</td>\n",
       "      <td>1392163200.00000</td>\n",
       "      <td>1406073600.00000</td>\n",
       "    </tr>\n",
       "    <tr>\n",
       "      <th>day_diff</th>\n",
       "      <td>4915.00000</td>\n",
       "      <td>437.36704</td>\n",
       "      <td>209.43987</td>\n",
       "      <td>1.00000</td>\n",
       "      <td>281.00000</td>\n",
       "      <td>431.00000</td>\n",
       "      <td>601.00000</td>\n",
       "      <td>1064.00000</td>\n",
       "    </tr>\n",
       "    <tr>\n",
       "      <th>helpful_yes</th>\n",
       "      <td>4915.00000</td>\n",
       "      <td>1.31109</td>\n",
       "      <td>41.61916</td>\n",
       "      <td>0.00000</td>\n",
       "      <td>0.00000</td>\n",
       "      <td>0.00000</td>\n",
       "      <td>0.00000</td>\n",
       "      <td>1952.00000</td>\n",
       "    </tr>\n",
       "    <tr>\n",
       "      <th>total_vote</th>\n",
       "      <td>4915.00000</td>\n",
       "      <td>1.52146</td>\n",
       "      <td>44.12309</td>\n",
       "      <td>0.00000</td>\n",
       "      <td>0.00000</td>\n",
       "      <td>0.00000</td>\n",
       "      <td>0.00000</td>\n",
       "      <td>2020.00000</td>\n",
       "    </tr>\n",
       "  </tbody>\n",
       "</table>\n",
       "</div>"
      ],
      "text/plain": [
       "                    count             mean            std              min              25%              50%              75%              max\n",
       "overall        4915.00000          4.58759        0.99685          1.00000          5.00000          5.00000          5.00000          5.00000\n",
       "unixReviewTime 4915.00000 1379465001.66836 15818574.32275 1339200000.00000 1365897600.00000 1381276800.00000 1392163200.00000 1406073600.00000\n",
       "day_diff       4915.00000        437.36704      209.43987          1.00000        281.00000        431.00000        601.00000       1064.00000\n",
       "helpful_yes    4915.00000          1.31109       41.61916          0.00000          0.00000          0.00000          0.00000       1952.00000\n",
       "total_vote     4915.00000          1.52146       44.12309          0.00000          0.00000          0.00000          0.00000       2020.00000"
      ]
     },
     "execution_count": 7,
     "metadata": {},
     "output_type": "execute_result"
    }
   ],
   "source": [
    "df.describe().T"
   ]
  },
  {
   "cell_type": "code",
   "execution_count": 8,
   "id": "afa62776-313e-4fc1-9d28-6c0efd834f0f",
   "metadata": {},
   "outputs": [
    {
     "data": {
      "text/plain": [
       "4.587589013224822"
      ]
     },
     "execution_count": 8,
     "metadata": {},
     "output_type": "execute_result"
    }
   ],
   "source": [
    "#Calculation of avg overall: \n",
    "df[\"overall\"].mean()"
   ]
  },
  {
   "cell_type": "code",
   "execution_count": 9,
   "id": "9feb5b98-0ac9-4d53-8f01-79c8523e671f",
   "metadata": {},
   "outputs": [],
   "source": [
    "#Some changes to the reviewTime variable."
   ]
  },
  {
   "cell_type": "code",
   "execution_count": 10,
   "id": "85c477f2-be46-4391-855b-0d3b4d59a4cc",
   "metadata": {},
   "outputs": [],
   "source": [
    "df = df.rename(columns = {'reviewTime': 'review_time'} )"
   ]
  },
  {
   "cell_type": "code",
   "execution_count": 11,
   "id": "99e30121-63cd-4972-bbd0-e658026dd006",
   "metadata": {},
   "outputs": [
    {
     "data": {
      "text/html": [
       "<div>\n",
       "<style scoped>\n",
       "    .dataframe tbody tr th:only-of-type {\n",
       "        vertical-align: middle;\n",
       "    }\n",
       "\n",
       "    .dataframe tbody tr th {\n",
       "        vertical-align: top;\n",
       "    }\n",
       "\n",
       "    .dataframe thead th {\n",
       "        text-align: right;\n",
       "    }\n",
       "</style>\n",
       "<table border=\"1\" class=\"dataframe\">\n",
       "  <thead>\n",
       "    <tr style=\"text-align: right;\">\n",
       "      <th></th>\n",
       "      <th>reviewerID</th>\n",
       "      <th>asin</th>\n",
       "      <th>reviewerName</th>\n",
       "      <th>helpful</th>\n",
       "      <th>reviewText</th>\n",
       "      <th>overall</th>\n",
       "      <th>summary</th>\n",
       "      <th>unixReviewTime</th>\n",
       "      <th>review_time</th>\n",
       "      <th>day_diff</th>\n",
       "      <th>helpful_yes</th>\n",
       "      <th>total_vote</th>\n",
       "    </tr>\n",
       "  </thead>\n",
       "  <tbody>\n",
       "    <tr>\n",
       "      <th>0</th>\n",
       "      <td>A3SBTW3WS4IQSN</td>\n",
       "      <td>B007WTAJTO</td>\n",
       "      <td>NaN</td>\n",
       "      <td>[0, 0]</td>\n",
       "      <td>No issues.</td>\n",
       "      <td>4.00000</td>\n",
       "      <td>Four Stars</td>\n",
       "      <td>1406073600</td>\n",
       "      <td>2014-07-23</td>\n",
       "      <td>138</td>\n",
       "      <td>0</td>\n",
       "      <td>0</td>\n",
       "    </tr>\n",
       "    <tr>\n",
       "      <th>1</th>\n",
       "      <td>A18K1ODH1I2MVB</td>\n",
       "      <td>B007WTAJTO</td>\n",
       "      <td>0mie</td>\n",
       "      <td>[0, 0]</td>\n",
       "      <td>Purchased this for my device, it worked as adv...</td>\n",
       "      <td>5.00000</td>\n",
       "      <td>MOAR SPACE!!!</td>\n",
       "      <td>1382659200</td>\n",
       "      <td>2013-10-25</td>\n",
       "      <td>409</td>\n",
       "      <td>0</td>\n",
       "      <td>0</td>\n",
       "    </tr>\n",
       "    <tr>\n",
       "      <th>2</th>\n",
       "      <td>A2FII3I2MBMUIA</td>\n",
       "      <td>B007WTAJTO</td>\n",
       "      <td>1K3</td>\n",
       "      <td>[0, 0]</td>\n",
       "      <td>it works as expected. I should have sprung for...</td>\n",
       "      <td>4.00000</td>\n",
       "      <td>nothing to really say....</td>\n",
       "      <td>1356220800</td>\n",
       "      <td>2012-12-23</td>\n",
       "      <td>715</td>\n",
       "      <td>0</td>\n",
       "      <td>0</td>\n",
       "    </tr>\n",
       "    <tr>\n",
       "      <th>3</th>\n",
       "      <td>A3H99DFEG68SR</td>\n",
       "      <td>B007WTAJTO</td>\n",
       "      <td>1m2</td>\n",
       "      <td>[0, 0]</td>\n",
       "      <td>This think has worked out great.Had a diff. br...</td>\n",
       "      <td>5.00000</td>\n",
       "      <td>Great buy at this price!!!  *** UPDATE</td>\n",
       "      <td>1384992000</td>\n",
       "      <td>2013-11-21</td>\n",
       "      <td>382</td>\n",
       "      <td>0</td>\n",
       "      <td>0</td>\n",
       "    </tr>\n",
       "    <tr>\n",
       "      <th>4</th>\n",
       "      <td>A375ZM4U047O79</td>\n",
       "      <td>B007WTAJTO</td>\n",
       "      <td>2&amp;amp;1/2Men</td>\n",
       "      <td>[0, 0]</td>\n",
       "      <td>Bought it with Retail Packaging, arrived legit...</td>\n",
       "      <td>5.00000</td>\n",
       "      <td>best deal around</td>\n",
       "      <td>1373673600</td>\n",
       "      <td>2013-07-13</td>\n",
       "      <td>513</td>\n",
       "      <td>0</td>\n",
       "      <td>0</td>\n",
       "    </tr>\n",
       "  </tbody>\n",
       "</table>\n",
       "</div>"
      ],
      "text/plain": [
       "       reviewerID        asin  reviewerName helpful                                         reviewText  overall                                 summary  unixReviewTime review_time  day_diff  helpful_yes  total_vote\n",
       "0  A3SBTW3WS4IQSN  B007WTAJTO           NaN  [0, 0]                                         No issues.  4.00000                              Four Stars      1406073600  2014-07-23       138            0           0\n",
       "1  A18K1ODH1I2MVB  B007WTAJTO          0mie  [0, 0]  Purchased this for my device, it worked as adv...  5.00000                           MOAR SPACE!!!      1382659200  2013-10-25       409            0           0\n",
       "2  A2FII3I2MBMUIA  B007WTAJTO           1K3  [0, 0]  it works as expected. I should have sprung for...  4.00000               nothing to really say....      1356220800  2012-12-23       715            0           0\n",
       "3   A3H99DFEG68SR  B007WTAJTO           1m2  [0, 0]  This think has worked out great.Had a diff. br...  5.00000  Great buy at this price!!!  *** UPDATE      1384992000  2013-11-21       382            0           0\n",
       "4  A375ZM4U047O79  B007WTAJTO  2&amp;1/2Men  [0, 0]  Bought it with Retail Packaging, arrived legit...  5.00000                        best deal around      1373673600  2013-07-13       513            0           0"
      ]
     },
     "execution_count": 11,
     "metadata": {},
     "output_type": "execute_result"
    }
   ],
   "source": [
    "df.head()"
   ]
  },
  {
   "cell_type": "code",
   "execution_count": 12,
   "id": "759b0caa-e509-484c-9bf2-ab16967fd2d3",
   "metadata": {},
   "outputs": [],
   "source": [
    "df[\"review_time\"] = pd.to_datetime(df[\"review_time\"])"
   ]
  },
  {
   "cell_type": "code",
   "execution_count": 13,
   "id": "44df0ec5-d2f9-43ae-92ab-ec2c083cc87a",
   "metadata": {},
   "outputs": [
    {
     "data": {
      "text/plain": [
       "reviewerID                object\n",
       "asin                      object\n",
       "reviewerName              object\n",
       "helpful                   object\n",
       "reviewText                object\n",
       "overall                  float64\n",
       "summary                   object\n",
       "unixReviewTime             int64\n",
       "review_time       datetime64[ns]\n",
       "day_diff                   int64\n",
       "helpful_yes                int64\n",
       "total_vote                 int64\n",
       "dtype: object"
      ]
     },
     "execution_count": 13,
     "metadata": {},
     "output_type": "execute_result"
    }
   ],
   "source": [
    "df.dtypes"
   ]
  },
  {
   "cell_type": "code",
   "execution_count": 14,
   "id": "e3445512-2278-4a14-b8ff-73728861b178",
   "metadata": {},
   "outputs": [],
   "source": [
    "#ENG \n",
    "#Take the maximum value of review_time as Current Date\n",
    "\n",
    "#TUR\n",
    "#Bugünün tarihini review_time'ın maximum değeriyle aldık.\n",
    "current_date = df[\"review_time\"].max()"
   ]
  },
  {
   "cell_type": "code",
   "execution_count": 15,
   "id": "92931dcf-34dd-4ae3-a192-ca3751ae683b",
   "metadata": {},
   "outputs": [
    {
     "data": {
      "text/plain": [
       "Timestamp('2014-12-07 00:00:00')"
      ]
     },
     "execution_count": 15,
     "metadata": {},
     "output_type": "execute_result"
    }
   ],
   "source": [
    "current_date"
   ]
  },
  {
   "cell_type": "code",
   "execution_count": 16,
   "id": "a39fb11b-18b3-43a8-93dd-b9414f9d33dd",
   "metadata": {},
   "outputs": [],
   "source": [
    "#ENG\n",
    "#Creating diff_Time variable\n",
    "#TUR\n",
    "# diff_time değişkeninin oluşturulması.\n",
    "df[\"diff_time\"] = (current_date-df[\"review_time\"]).dt.days"
   ]
  },
  {
   "cell_type": "code",
   "execution_count": 17,
   "id": "4432751c-6e99-4383-b21e-9125861ffb15",
   "metadata": {},
   "outputs": [
    {
     "data": {
      "text/html": [
       "<div>\n",
       "<style scoped>\n",
       "    .dataframe tbody tr th:only-of-type {\n",
       "        vertical-align: middle;\n",
       "    }\n",
       "\n",
       "    .dataframe tbody tr th {\n",
       "        vertical-align: top;\n",
       "    }\n",
       "\n",
       "    .dataframe thead th {\n",
       "        text-align: right;\n",
       "    }\n",
       "</style>\n",
       "<table border=\"1\" class=\"dataframe\">\n",
       "  <thead>\n",
       "    <tr style=\"text-align: right;\">\n",
       "      <th></th>\n",
       "      <th>reviewerID</th>\n",
       "      <th>asin</th>\n",
       "      <th>reviewerName</th>\n",
       "      <th>helpful</th>\n",
       "      <th>reviewText</th>\n",
       "      <th>overall</th>\n",
       "      <th>summary</th>\n",
       "      <th>unixReviewTime</th>\n",
       "      <th>review_time</th>\n",
       "      <th>day_diff</th>\n",
       "      <th>helpful_yes</th>\n",
       "      <th>total_vote</th>\n",
       "      <th>diff_time</th>\n",
       "    </tr>\n",
       "  </thead>\n",
       "  <tbody>\n",
       "    <tr>\n",
       "      <th>0</th>\n",
       "      <td>A3SBTW3WS4IQSN</td>\n",
       "      <td>B007WTAJTO</td>\n",
       "      <td>NaN</td>\n",
       "      <td>[0, 0]</td>\n",
       "      <td>No issues.</td>\n",
       "      <td>4.00000</td>\n",
       "      <td>Four Stars</td>\n",
       "      <td>1406073600</td>\n",
       "      <td>2014-07-23</td>\n",
       "      <td>138</td>\n",
       "      <td>0</td>\n",
       "      <td>0</td>\n",
       "      <td>137</td>\n",
       "    </tr>\n",
       "    <tr>\n",
       "      <th>1</th>\n",
       "      <td>A18K1ODH1I2MVB</td>\n",
       "      <td>B007WTAJTO</td>\n",
       "      <td>0mie</td>\n",
       "      <td>[0, 0]</td>\n",
       "      <td>Purchased this for my device, it worked as adv...</td>\n",
       "      <td>5.00000</td>\n",
       "      <td>MOAR SPACE!!!</td>\n",
       "      <td>1382659200</td>\n",
       "      <td>2013-10-25</td>\n",
       "      <td>409</td>\n",
       "      <td>0</td>\n",
       "      <td>0</td>\n",
       "      <td>408</td>\n",
       "    </tr>\n",
       "    <tr>\n",
       "      <th>2</th>\n",
       "      <td>A2FII3I2MBMUIA</td>\n",
       "      <td>B007WTAJTO</td>\n",
       "      <td>1K3</td>\n",
       "      <td>[0, 0]</td>\n",
       "      <td>it works as expected. I should have sprung for...</td>\n",
       "      <td>4.00000</td>\n",
       "      <td>nothing to really say....</td>\n",
       "      <td>1356220800</td>\n",
       "      <td>2012-12-23</td>\n",
       "      <td>715</td>\n",
       "      <td>0</td>\n",
       "      <td>0</td>\n",
       "      <td>714</td>\n",
       "    </tr>\n",
       "    <tr>\n",
       "      <th>3</th>\n",
       "      <td>A3H99DFEG68SR</td>\n",
       "      <td>B007WTAJTO</td>\n",
       "      <td>1m2</td>\n",
       "      <td>[0, 0]</td>\n",
       "      <td>This think has worked out great.Had a diff. br...</td>\n",
       "      <td>5.00000</td>\n",
       "      <td>Great buy at this price!!!  *** UPDATE</td>\n",
       "      <td>1384992000</td>\n",
       "      <td>2013-11-21</td>\n",
       "      <td>382</td>\n",
       "      <td>0</td>\n",
       "      <td>0</td>\n",
       "      <td>381</td>\n",
       "    </tr>\n",
       "    <tr>\n",
       "      <th>4</th>\n",
       "      <td>A375ZM4U047O79</td>\n",
       "      <td>B007WTAJTO</td>\n",
       "      <td>2&amp;amp;1/2Men</td>\n",
       "      <td>[0, 0]</td>\n",
       "      <td>Bought it with Retail Packaging, arrived legit...</td>\n",
       "      <td>5.00000</td>\n",
       "      <td>best deal around</td>\n",
       "      <td>1373673600</td>\n",
       "      <td>2013-07-13</td>\n",
       "      <td>513</td>\n",
       "      <td>0</td>\n",
       "      <td>0</td>\n",
       "      <td>512</td>\n",
       "    </tr>\n",
       "  </tbody>\n",
       "</table>\n",
       "</div>"
      ],
      "text/plain": [
       "       reviewerID        asin  reviewerName helpful                                         reviewText  overall                                 summary  unixReviewTime review_time  day_diff  helpful_yes  total_vote  diff_time\n",
       "0  A3SBTW3WS4IQSN  B007WTAJTO           NaN  [0, 0]                                         No issues.  4.00000                              Four Stars      1406073600  2014-07-23       138            0           0        137\n",
       "1  A18K1ODH1I2MVB  B007WTAJTO          0mie  [0, 0]  Purchased this for my device, it worked as adv...  5.00000                           MOAR SPACE!!!      1382659200  2013-10-25       409            0           0        408\n",
       "2  A2FII3I2MBMUIA  B007WTAJTO           1K3  [0, 0]  it works as expected. I should have sprung for...  4.00000               nothing to really say....      1356220800  2012-12-23       715            0           0        714\n",
       "3   A3H99DFEG68SR  B007WTAJTO           1m2  [0, 0]  This think has worked out great.Had a diff. br...  5.00000  Great buy at this price!!!  *** UPDATE      1384992000  2013-11-21       382            0           0        381\n",
       "4  A375ZM4U047O79  B007WTAJTO  2&amp;1/2Men  [0, 0]  Bought it with Retail Packaging, arrived legit...  5.00000                        best deal around      1373673600  2013-07-13       513            0           0        512"
      ]
     },
     "execution_count": 17,
     "metadata": {},
     "output_type": "execute_result"
    }
   ],
   "source": [
    "df.head()"
   ]
  },
  {
   "cell_type": "code",
   "execution_count": 18,
   "id": "8126238b-d933-47fe-aabd-650b7c36452e",
   "metadata": {},
   "outputs": [],
   "source": [
    "#ENG\n",
    "# Defining a function for make quartiles of diff_time value of dataset\n",
    "\n",
    "#TUR\n",
    "#diff_time değişkeninin çeyreklik değerlerini yakalamak için bir fonksiyon tanımlıyoruz\n",
    "def make_quartiles(dataframe, lst = [.25,.5,.75], quart_value = \"diff_time\"):\n",
    "    quartiless = dataframe[quart_value].quantile(lst)\n",
    "    return quartiless\n",
    "    "
   ]
  },
  {
   "cell_type": "code",
   "execution_count": 25,
   "id": "038b0ccf-1613-428e-aa4f-169c94923a77",
   "metadata": {},
   "outputs": [
    {
     "ename": "NameError",
     "evalue": "name 'quartiless' is not defined",
     "output_type": "error",
     "traceback": [
      "\u001b[1;31m---------------------------------------------------------------------------\u001b[0m",
      "\u001b[1;31mNameError\u001b[0m                                 Traceback (most recent call last)",
      "Input \u001b[1;32mIn [25]\u001b[0m, in \u001b[0;36m<cell line: 2>\u001b[1;34m()\u001b[0m\n\u001b[0;32m      1\u001b[0m make_quartiles(df)\n\u001b[1;32m----> 2\u001b[0m \u001b[43mquartiless\u001b[49m\n",
      "\u001b[1;31mNameError\u001b[0m: name 'quartiless' is not defined"
     ]
    }
   ],
   "source": [
    "quartiles = "
   ]
  },
  {
   "cell_type": "code",
   "execution_count": 20,
   "id": "b5c392a2-bb81-438f-9d84-5813efcf4eec",
   "metadata": {},
   "outputs": [],
   "source": [
    "#ENG\n",
    "#We analyze by weighting the quarters we find with the time-weighted average.\n",
    "#TUR\n",
    "#Zaman ağırlıklı ortalama ile bulduğumuz çeyreklikleri ağırlaştırarak analiz yapıyoruz.ve bunun için bir fonksiyon tanımlıyoruz\n",
    "def time_based_weighted_average(dataframe, w1 =28, w2 = 26, w3 = 24, w4 = 22):\n",
    "    tbwa = dataframe.loc[df[\"diff_time\"] <= 280, \"overall\"].mean() * w1/100 + \\\n",
    "           dataframe.loc[(df[\"diff_time\"] > 280) & (df[\"diff_time\"] <= 430), \"overall\"].mean() * w2/100 + \\\n",
    "           dataframe.loc[(df[\"diff_time\"] > 430) & (df[\"diff_time\"] <= 600), \"overall\"].mean() * w3/100 + \\\n",
    "           dataframe.loc[df[\"diff_time\"] > 600, \"overall\"].mean() * w4/100 \n",
    "    print(f\"Time Based Weighted Average is {tbwa}\")"
   ]
  },
  {
   "cell_type": "code",
   "execution_count": 21,
   "id": "4958789a-fd99-4bf0-a0f2-5ab0fb6bebbe",
   "metadata": {},
   "outputs": [
    {
     "name": "stdout",
     "output_type": "stream",
     "text": [
      "Time Based Weighted Average is 4.595593165128118\n"
     ]
    }
   ],
   "source": [
    "time_based_weighted_average(df)"
   ]
  },
  {
   "cell_type": "code",
   "execution_count": 22,
   "id": "11bef1c8-45ba-4549-8ab2-5b3fb8534eab",
   "metadata": {},
   "outputs": [
    {
     "data": {
      "text/html": [
       "<div>\n",
       "<style scoped>\n",
       "    .dataframe tbody tr th:only-of-type {\n",
       "        vertical-align: middle;\n",
       "    }\n",
       "\n",
       "    .dataframe tbody tr th {\n",
       "        vertical-align: top;\n",
       "    }\n",
       "\n",
       "    .dataframe thead th {\n",
       "        text-align: right;\n",
       "    }\n",
       "</style>\n",
       "<table border=\"1\" class=\"dataframe\">\n",
       "  <thead>\n",
       "    <tr style=\"text-align: right;\">\n",
       "      <th></th>\n",
       "      <th>reviewerID</th>\n",
       "      <th>asin</th>\n",
       "      <th>reviewerName</th>\n",
       "      <th>helpful</th>\n",
       "      <th>reviewText</th>\n",
       "      <th>overall</th>\n",
       "      <th>summary</th>\n",
       "      <th>unixReviewTime</th>\n",
       "      <th>review_time</th>\n",
       "      <th>day_diff</th>\n",
       "      <th>helpful_yes</th>\n",
       "      <th>total_vote</th>\n",
       "      <th>diff_time</th>\n",
       "    </tr>\n",
       "  </thead>\n",
       "  <tbody>\n",
       "    <tr>\n",
       "      <th>0</th>\n",
       "      <td>A3SBTW3WS4IQSN</td>\n",
       "      <td>B007WTAJTO</td>\n",
       "      <td>NaN</td>\n",
       "      <td>[0, 0]</td>\n",
       "      <td>No issues.</td>\n",
       "      <td>4.00000</td>\n",
       "      <td>Four Stars</td>\n",
       "      <td>1406073600</td>\n",
       "      <td>2014-07-23</td>\n",
       "      <td>138</td>\n",
       "      <td>0</td>\n",
       "      <td>0</td>\n",
       "      <td>137</td>\n",
       "    </tr>\n",
       "    <tr>\n",
       "      <th>1</th>\n",
       "      <td>A18K1ODH1I2MVB</td>\n",
       "      <td>B007WTAJTO</td>\n",
       "      <td>0mie</td>\n",
       "      <td>[0, 0]</td>\n",
       "      <td>Purchased this for my device, it worked as adv...</td>\n",
       "      <td>5.00000</td>\n",
       "      <td>MOAR SPACE!!!</td>\n",
       "      <td>1382659200</td>\n",
       "      <td>2013-10-25</td>\n",
       "      <td>409</td>\n",
       "      <td>0</td>\n",
       "      <td>0</td>\n",
       "      <td>408</td>\n",
       "    </tr>\n",
       "    <tr>\n",
       "      <th>2</th>\n",
       "      <td>A2FII3I2MBMUIA</td>\n",
       "      <td>B007WTAJTO</td>\n",
       "      <td>1K3</td>\n",
       "      <td>[0, 0]</td>\n",
       "      <td>it works as expected. I should have sprung for...</td>\n",
       "      <td>4.00000</td>\n",
       "      <td>nothing to really say....</td>\n",
       "      <td>1356220800</td>\n",
       "      <td>2012-12-23</td>\n",
       "      <td>715</td>\n",
       "      <td>0</td>\n",
       "      <td>0</td>\n",
       "      <td>714</td>\n",
       "    </tr>\n",
       "    <tr>\n",
       "      <th>3</th>\n",
       "      <td>A3H99DFEG68SR</td>\n",
       "      <td>B007WTAJTO</td>\n",
       "      <td>1m2</td>\n",
       "      <td>[0, 0]</td>\n",
       "      <td>This think has worked out great.Had a diff. br...</td>\n",
       "      <td>5.00000</td>\n",
       "      <td>Great buy at this price!!!  *** UPDATE</td>\n",
       "      <td>1384992000</td>\n",
       "      <td>2013-11-21</td>\n",
       "      <td>382</td>\n",
       "      <td>0</td>\n",
       "      <td>0</td>\n",
       "      <td>381</td>\n",
       "    </tr>\n",
       "    <tr>\n",
       "      <th>4</th>\n",
       "      <td>A375ZM4U047O79</td>\n",
       "      <td>B007WTAJTO</td>\n",
       "      <td>2&amp;amp;1/2Men</td>\n",
       "      <td>[0, 0]</td>\n",
       "      <td>Bought it with Retail Packaging, arrived legit...</td>\n",
       "      <td>5.00000</td>\n",
       "      <td>best deal around</td>\n",
       "      <td>1373673600</td>\n",
       "      <td>2013-07-13</td>\n",
       "      <td>513</td>\n",
       "      <td>0</td>\n",
       "      <td>0</td>\n",
       "      <td>512</td>\n",
       "    </tr>\n",
       "  </tbody>\n",
       "</table>\n",
       "</div>"
      ],
      "text/plain": [
       "       reviewerID        asin  reviewerName helpful                                         reviewText  overall                                 summary  unixReviewTime review_time  day_diff  helpful_yes  total_vote  diff_time\n",
       "0  A3SBTW3WS4IQSN  B007WTAJTO           NaN  [0, 0]                                         No issues.  4.00000                              Four Stars      1406073600  2014-07-23       138            0           0        137\n",
       "1  A18K1ODH1I2MVB  B007WTAJTO          0mie  [0, 0]  Purchased this for my device, it worked as adv...  5.00000                           MOAR SPACE!!!      1382659200  2013-10-25       409            0           0        408\n",
       "2  A2FII3I2MBMUIA  B007WTAJTO           1K3  [0, 0]  it works as expected. I should have sprung for...  4.00000               nothing to really say....      1356220800  2012-12-23       715            0           0        714\n",
       "3   A3H99DFEG68SR  B007WTAJTO           1m2  [0, 0]  This think has worked out great.Had a diff. br...  5.00000  Great buy at this price!!!  *** UPDATE      1384992000  2013-11-21       382            0           0        381\n",
       "4  A375ZM4U047O79  B007WTAJTO  2&amp;1/2Men  [0, 0]  Bought it with Retail Packaging, arrived legit...  5.00000                        best deal around      1373673600  2013-07-13       513            0           0        512"
      ]
     },
     "execution_count": 22,
     "metadata": {},
     "output_type": "execute_result"
    }
   ],
   "source": [
    "df.head()"
   ]
  },
  {
   "cell_type": "code",
   "execution_count": 23,
   "id": "f5f3b2f7-7833-41b2-9aea-86f695470304",
   "metadata": {},
   "outputs": [],
   "source": [
    "#ENG\n",
    "#I create a function to capture weighted and weighted average values for each quarter.\n",
    "#TUR\n",
    "#Her bir çeyreklik için ağırlaştırılmış ve ağırlaştırılmamış ortalama değerleri yakalamak için bir fonksiyon yaratıyorum.\n",
    "def time_based_weighted_average_each(dataframe,lst = [.25,.5,.75],quart_value = \"diff_time\",w1 =28, w2 = 26, w3 = 24, w4 = 22):\n",
    "    quartiless = dataframe[quart_value].quantile(lst)\n",
    "    return quartiless\n",
    "    \n",
    "    q1_weighted = dataframe.loc[df[\"diff_time\"] <= quartiless[0.25], \"overall\"].mean() * w1/100\n",
    "    q2_weighted = dataframe.loc[(df[\"diff_time\"] > quartiless[0.25]) & (df[\"diff_time\"] <= quartiless[0.50]), \"overall\"].mean() * w2 / 100\n",
    "    q3_weighted = dataframe.loc[(df[\"diff_time\"] > quartiless[0.50]) & (df[\"diff_time\"] <= quartiless[0.75]), \"overall\"].mean() * w3 / 100\n",
    "    q4_weighted = dataframe.loc[df[\"diff_time\"] > quartiless[0.75], \"overall\"].mean()* w4/100\n",
    "    \n",
    "    q1_unweighted = dataframe.loc[df[\"diff_time\"] <= quartiless[0.25], \"overall\"].mean() \n",
    "    q2_unweighted = dataframe.loc[(df[\"diff_time\"] > quartiless[0.25]) & (df[\"diff_time\"] <= quartiless[0.50]), \"overall\"].mean() \n",
    "    q3_unweighted = dataframe.loc[(df[\"diff_time\"] > quartiless[0.50]) & (df[\"diff_time\"] <= quartiless[0.75]), \"overall\"].mean() \n",
    "    q4_unweighted = dataframe.loc[df[\"diff_time\"] > quartiless[0.75], \"overall\"].mean()\n",
    "    \n",
    "    print(\" Weighted Values \".center(60, \"*\"))\n",
    "    print(60*\" \")\n",
    "    print(f\"Quartile_1 mean with weighted value is {q1_weighted}\")\n",
    "    print(f\"Quartile_2 mean with weighted value is {q2_weighted}\")\n",
    "    print(f\"Quartile_3 mean with weighted value is {q3_weighted}\")\n",
    "    print(f\"Quartile_4 mean with weighted value is {q4_weighted}\")\n",
    "    print(60*\" \")\n",
    "    print(\" Unweighted Values \".center(60, \"*\"))\n",
    "    print(60*\" \")\n",
    "    print(f\"Quartile_1 mean with unweighted value is {q1_unweighted}\")\n",
    "    print(f\"Quartile_2 mean with unweighted value is {q2_unweighted}\")\n",
    "    print(f\"Quartile_3 mean with unweighted value is {q3_unweighted}\")\n",
    "    print(f\"Quartile_4 mean with unweighted value is {q4_unweighted}\")\n",
    "    "
   ]
  },
  {
   "cell_type": "code",
   "execution_count": 24,
   "id": "566c2207-73a7-45ef-a3fc-6ff8532009e7",
   "metadata": {},
   "outputs": [
    {
     "ename": "NameError",
     "evalue": "name 'quartiless' is not defined",
     "output_type": "error",
     "traceback": [
      "\u001b[1;31m---------------------------------------------------------------------------\u001b[0m",
      "\u001b[1;31mNameError\u001b[0m                                 Traceback (most recent call last)",
      "Input \u001b[1;32mIn [24]\u001b[0m, in \u001b[0;36m<cell line: 1>\u001b[1;34m()\u001b[0m\n\u001b[1;32m----> 1\u001b[0m time_based_weighted_average_each(df,\u001b[43mquartiless\u001b[49m)\n",
      "\u001b[1;31mNameError\u001b[0m: name 'quartiless' is not defined"
     ]
    }
   ],
   "source": [
    "time_based_weighted_average_each(df,quartiless)"
   ]
  },
  {
   "cell_type": "code",
   "execution_count": null,
   "id": "180ac832-5366-473f-9c06-c585d902d7ab",
   "metadata": {},
   "outputs": [],
   "source": [
    "#ENG \n",
    "#Considering the predominantly average score of the quarter, it was observed that customers who commented on a more recent date in terms of days gave higher scores.\n",
    "#While creating the weight system, the weight system has been applied in a decreasing way from the recent past to the distant date.\n",
    "#It has been observed that this situation occurs in the same way in the data without the weight system applied.\n",
    "\n",
    "#TUR \n",
    "#Yorumlama : 4 Çeyreğin ağırlıklı olarak puan ortalamalarına bakıldığında gün olarak daha yakın tarihte yorum yapan müşterilerin daha yüksek puan verdiği gözlemlenmiştir. \n",
    "#Ağırlık sistemi yaratılırken, yakın tarihten uzak tarihe doğru azalan bir şekilde ağırlık sistemi uygulanmıştır. \n",
    "#Ağırlık sistemi uygulanmamış verilerde de bu durumun aynı şekilde gerçekleştiği gözlemlenmiştir. "
   ]
  },
  {
   "cell_type": "code",
   "execution_count": null,
   "id": "d7f9e869-9973-4a44-97c2-23d7a5c35fa4",
   "metadata": {},
   "outputs": [],
   "source": [
    "#ENG\n",
    "#creating of helpful_no variable\n",
    "#TUR \n",
    "#helpful_no değişkeninin oluşturulması\n",
    "df[\"helpful_no\"] = df[\"total_vote\"] - df[\"helpful_yes\"]"
   ]
  },
  {
   "cell_type": "code",
   "execution_count": null,
   "id": "6f457f47-ba0f-4c9f-8ba9-229e64c87862",
   "metadata": {},
   "outputs": [],
   "source": [
    "#ENG\n",
    "#creating of score_pos_neg_diff variable\n",
    "#TUR\n",
    "#score_pos_neg_diff değişkeninin oluşturulması\n",
    "def score_pos_neg_diff(pos,neg):\n",
    "    return pos-neg\n",
    "\n",
    "df[\"score_pos_neg_diff\"] = df.apply(lambda t: score_pos_neg_diff(t[\"helpful_yes\"],t[\"helpful_no\"]), axis = 1)"
   ]
  },
  {
   "cell_type": "code",
   "execution_count": null,
   "id": "9f90cf74-f5e6-4aab-93d0-10afbe472adf",
   "metadata": {},
   "outputs": [],
   "source": [
    "df.head()"
   ]
  },
  {
   "cell_type": "code",
   "execution_count": null,
   "id": "1a081eb3-fca5-4200-bf17-e046e1bff406",
   "metadata": {},
   "outputs": [],
   "source": [
    "#ENG\n",
    "#creating of score_average_rating function\n",
    "#TUR\n",
    "#score_average_rating fonksiyonunun oluşturulması\n",
    "def score_average_rating(pos,neg):\n",
    "    if pos+neg == 0:\n",
    "        return 0\n",
    "    return pos / (pos+neg)"
   ]
  },
  {
   "cell_type": "code",
   "execution_count": null,
   "id": "3c4fc0ae-e2b3-47dc-ae1c-6b5aeb53c85b",
   "metadata": {},
   "outputs": [],
   "source": [
    "#ENG\n",
    "#creating of score_average_rating column\n",
    "#TUR\n",
    "#score_average_rating  oluşturulması\n",
    "df[\"score_average_rating\"] = df.apply(lambda x: score_average_rating(x[\"helpful_yes\"],x[\"helpful_no\"]),axis = 1)"
   ]
  },
  {
   "cell_type": "code",
   "execution_count": null,
   "id": "eea65318-7dab-452c-861e-bf4cb1e5d206",
   "metadata": {},
   "outputs": [],
   "source": [
    "df.head()"
   ]
  },
  {
   "cell_type": "code",
   "execution_count": null,
   "id": "290eb6e2-1e56-49c6-9e9f-8df1e769b48f",
   "metadata": {},
   "outputs": [],
   "source": [
    "#ENG\n",
    "#We defined a function named Wilson_lower_bound\n",
    "#TUR\n",
    "#Wilson_lower_bound adında bir fonksiyon tanımladık\n",
    "def wilson_lower_bound(pos,neg,confidence = 0.95):\n",
    "    n = pos + neg\n",
    "    if n == 0:\n",
    "        return 0\n",
    "    z = st.norm.ppf(1 - (1 - confidence) / 2)\n",
    "    phat = 1.0 * pos / n\n",
    "    return (phat + z * z / (2 * n) - z * math.sqrt((phat * (1 - phat) + z * z / (4 * n)) / n)) / (1 + z * z / n)"
   ]
  },
  {
   "cell_type": "code",
   "execution_count": null,
   "id": "881a5456-caf9-4c09-8695-5a6da71e66de",
   "metadata": {},
   "outputs": [],
   "source": [
    "#ENG\n",
    "#We defined a column named Wilson_lower_bound and applied the function in it.\n",
    "\n",
    "#TUR\n",
    "#Wilson_lower_bound adında bir kolon tanımlayıp içerisinde fonksiyonu uyguladık.\n",
    "df[\"wilson_lower_bound\"] = df.apply(lambda x: wilson_lower_bound(x[\"helpful_yes\"],x[\"helpful_no\"]),axis = 1) "
   ]
  },
  {
   "cell_type": "code",
   "execution_count": null,
   "id": "9e459c9d-66db-440c-87e5-f42ce96000a9",
   "metadata": {},
   "outputs": [],
   "source": [
    "df.head()"
   ]
  },
  {
   "cell_type": "code",
   "execution_count": null,
   "id": "81e68362-f95a-4125-aae1-a64e909c0ef2",
   "metadata": {},
   "outputs": [],
   "source": [
    "#ENG\n",
    "#We ranked the reviews with Wilson_lower_bound and viewed the first 20 reviews.\n",
    "#TUR\n",
    "#Wilson_lower_bound ile reviewleri sıralayıp ilk 20 review'i görüntüledik.\n",
    "df.sort_values(\"wilson_lower_bound\", ascending = False).head(20)"
   ]
  },
  {
   "cell_type": "code",
   "execution_count": null,
   "id": "b5fd0e7b-6711-45e2-a1cf-23fdb399c5cf",
   "metadata": {},
   "outputs": [],
   "source": [
    "#ENG\n",
    "#Looking at the ranks, the first 20 reviews were received according to wilson_lower_bound. Numbers, distributions and bernoulli of positive and negative comments in Wilson_Lower_bound\n",
    "#We took the lower limit of the p value as probability. There is no change in overall, both low overalls and high overalls are in the top 20.\n",
    "#Despite being negative comments, they rose to the top of the rankings because they were explanatory in terms of social proof and satisfying in terms of information.\n",
    "#score_average_rating did not exactly affect the wlb value. While a value such as 0.95 was observed in the first value, values such as 1.000 were observed in the lower ranks.\n",
    "\n",
    "#TUR\n",
    "#Yorum : \n",
    "#Sıralamalara bakıldığında wilson_lower_bound'a göre ilk 20 review alınmıştır. Wilson_Lower_bound içerisinde positif ve negatif yorumların sayıları, dağılımları ve bernoulli\n",
    "#olasılığında p değerinin alt limitini değer olarak aldık. Overall açısından herhangi bir değişiklik yoktur, düşük overallar da yüksek overaller da ilk 20 içerisinde yer almaktadır.\n",
    "#Negatif yorum olmalarına rağmen sosyal kanıt açısından açıklayıcı oldukları ve bilgi açısından doyurucu oldukları için sıralamada üst sıralara yükselmişlerdir. \n",
    "#score_average_rating birebir şekilde wlb değerini etkilememiştir. birinci olan değerde 0.95 gibi bir değer gözlenirken alt sıralarda 1.000 gibi değerler gözlemlenmiştir"
   ]
  },
  {
   "cell_type": "code",
   "execution_count": null,
   "id": "bbdcb1cf-afff-4780-b351-b8156cc997b0",
   "metadata": {},
   "outputs": [],
   "source": []
  },
  {
   "cell_type": "code",
   "execution_count": null,
   "id": "2030ae21-a333-4609-b5f2-802172cbb6a5",
   "metadata": {},
   "outputs": [],
   "source": []
  },
  {
   "cell_type": "code",
   "execution_count": null,
   "id": "a42f8bf0-0253-4192-9864-415f82cf69b8",
   "metadata": {},
   "outputs": [],
   "source": []
  },
  {
   "cell_type": "code",
   "execution_count": null,
   "id": "306102ee-4034-419d-89db-282cb19c7353",
   "metadata": {},
   "outputs": [],
   "source": []
  }
 ],
 "metadata": {
  "kernelspec": {
   "display_name": "Python 3 (ipykernel)",
   "language": "python",
   "name": "python3"
  },
  "language_info": {
   "codemirror_mode": {
    "name": "ipython",
    "version": 3
   },
   "file_extension": ".py",
   "mimetype": "text/x-python",
   "name": "python",
   "nbconvert_exporter": "python",
   "pygments_lexer": "ipython3",
   "version": "3.9.12"
  }
 },
 "nbformat": 4,
 "nbformat_minor": 5
}
